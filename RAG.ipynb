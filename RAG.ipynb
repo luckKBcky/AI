{
  "cells": [
    {
      "cell_type": "markdown",
      "metadata": {
        "id": "PddCzhQ4Khzh"
      },
      "source": [
        "# 카드정보 DB 조회 및 크로마 DB 삽입"
      ]
    },
    {
      "cell_type": "code",
      "execution_count": 1,
      "metadata": {
        "id": "H6U6YUoJnGlF"
      },
      "outputs": [],
      "source": [
        "from langchain_openai import ChatOpenAI\n",
        "import os\n",
        "import bs4\n",
        "from langchain import hub\n",
        "from langchain_community.document_loaders import WebBaseLoader\n",
        "from langchain_chroma import Chroma\n",
        "from langchain_core.output_parsers import StrOutputParser\n",
        "from langchain_core.runnables import RunnablePassthrough\n",
        "from langchain_openai import OpenAIEmbeddings\n",
        "from langchain_text_splitters import RecursiveCharacterTextSplitter\n",
        "from dotenv import load_dotenv\n",
        "import os\n",
        "\n",
        "load_dotenv()\n",
        "\n",
        "# 환경 변수 읽기\n",
        "HOST = os.getenv('DB_HOST')\n",
        "PORT = os.getenv('PORT')\n",
        "USER = os.getenv('USER')\n",
        "PASSWORD = os.getenv('PW')\n",
        "DATABASE = os.getenv('DATABASE')\n",
        "OPENAI_API_KEY = os.getenv('OPENAI_API_KEY')\n",
        "# # 환경 변수 읽기\n",
        "\n",
        "os.environ[\"OPENAI_API_KEY\"] = OPENAI_API_KEY\n",
        "\n",
        "llm = ChatOpenAI(model=\"gpt-4o\")"
      ]
    },
    {
      "cell_type": "code",
      "execution_count": null,
      "metadata": {
        "id": "HL8V_cYjy0kQ"
      },
      "outputs": [],
      "source": [
        "from langchain_core.documents import Document\n",
        "import mysql.connector\n",
        "from mysql.connector import Error\n",
        "\n",
        "\n",
        "try:\n",
        "    # 데이터베이스 연결\n",
        "    connection = mysql.connector.connect(\n",
        "        host=HOST,\n",
        "        database=DATABASE,\n",
        "        user=USER,\n",
        "        password=PASSWORD\n",
        "    )\n",
        "\n",
        "    if connection.is_connected():\n",
        "        print(\"데이터베이스에 성공적으로 연결되었습니다.\")\n",
        "\n",
        "        # 커서 생성\n",
        "        cursor = connection.cursor()\n",
        "\n",
        "        # 모든 데이터 조회 쿼리\n",
        "        query = \"SELECT title, excerpt, content FROM kb_card limit 1\"\n",
        "\n",
        "        # 쿼리 실행\n",
        "        cursor.execute(query)\n",
        "\n",
        "        # 결과 가져오기\n",
        "        records = cursor.fetchall()\n",
        "\n",
        "        # 결과 출력\n",
        "        print(\"kb_card 테이블의 데이터:\")\n",
        "        for row in records:\n",
        "            print(row)\n",
        "\n",
        "except Error as e:\n",
        "    print(f\"Error: {e}\")\n",
        "\n",
        "finally:\n",
        "    # 연결 종료\n",
        "    if connection.is_connected():\n",
        "        cursor.close()\n",
        "        connection.close()\n",
        "        print(\"MySQL 연결이 종료되었습니다.\")\n",
        "\n",
        "docs = [Document(\n",
        "        metadata={\"title\": record[0], \"excerpt\" : record[1], \"language\" : \"ko\"},\n",
        "        page_content=record[2]\n",
        "    ) for record in records]"
      ]
    },
    {
      "cell_type": "code",
      "execution_count": 2,
      "metadata": {},
      "outputs": [],
      "source": [
        "host"
      ]
    },
    {
      "cell_type": "code",
      "execution_count": 3,
      "metadata": {
        "id": "6PDlc-uHoYXU"
      },
      "outputs": [],
      "source": [
        "text_splitter = RecursiveCharacterTextSplitter(chunk_size=1000, chunk_overlap=200)\n",
        "# Retrieve and generate using the relevant snippets of the blog.\n",
        "splits = text_splitter.split_documents(docs)\n",
        "# vectorstore = Chroma.from_documents(documents=splits, embedding=OpenAIEmbeddings())"
      ]
    },
    {
      "cell_type": "code",
      "execution_count": 4,
      "metadata": {},
      "outputs": [
        {
          "ename": "",
          "evalue": "",
          "output_type": "error",
          "traceback": [
            "\u001b[1;31mThe Kernel crashed while executing code in the current cell or a previous cell. \n",
            "\u001b[1;31mPlease review the code in the cell(s) to identify a possible cause of the failure. \n",
            "\u001b[1;31mClick <a href='https://aka.ms/vscodeJupyterKernelCrash'>here</a> for more info. \n",
            "\u001b[1;31mView Jupyter <a href='command:jupyter.viewOutput'>log</a> for further details."
          ]
        }
      ],
      "source": [
        "vectorstore = Chroma.from_documents(documents=splits, embedding=OpenAIEmbeddings())"
      ]
    },
    {
      "cell_type": "code",
      "execution_count": null,
      "metadata": {
        "id": "96m-eGlFocEY"
      },
      "outputs": [],
      "source": [
        "from langchain_core.prompts import PromptTemplate\n",
        "\n",
        "def format_docs(docs):\n",
        "    return \"\\n\\n\".join(doc.page_content for doc in docs)\n",
        "\n",
        "vectorstore = Chroma.from_documents(documents=splits, embedding=OpenAIEmbeddings())\n",
        "retriever = vectorstore.as_retriever()\n",
        "\n",
        "template = \"\"\"\n",
        "당신은 KB국민은행에 대한 질문에 답변하는 작업을 돕는 은행원입니다.\n",
        "다음에 제공된 맥락을 사용하여 질문에 한국말로 답변하십시오.\n",
        "특히 몇 %를 적립할 수 있으며 할인 받을 수 있는 지 위주로 집중적으로 암기하여 대답하세요.\n",
        "5문장 이상으로 최대한 자세히 답변해주세요.\n",
        "\n",
        "{context}\n",
        "\n",
        "Question: {question}\n",
        "\n",
        "Helpful Answer:\"\"\"\n",
        "custom_rag_prompt = PromptTemplate.from_template(template)\n",
        "\n",
        "rag_chain = (\n",
        "    {\"context\": retriever | format_docs, \"question\": RunnablePassthrough()}\n",
        "    | custom_rag_prompt\n",
        "    | llm\n",
        "    | StrOutputParser()\n",
        ")\n",
        "\n",
        "# rag_chain.invoke(\"빵먹는거 얼마나 할인해주는데?\")"
      ]
    },
    {
      "cell_type": "code",
      "execution_count": null,
      "metadata": {
        "id": "jZWymY3dJMzA"
      },
      "outputs": [],
      "source": [
        "rag_chain.invoke(\"나 곧 결혼해 카드 추천해줘\")"
      ]
    },
    {
      "cell_type": "markdown",
      "metadata": {
        "id": "Yl1C_zpRv1mu"
      },
      "source": [
        "# 스트리밍 적용"
      ]
    },
    {
      "cell_type": "code",
      "execution_count": null,
      "metadata": {
        "id": "sOc6PZ6JqJD3"
      },
      "outputs": [],
      "source": [
        "import bs4\n",
        "from langchain import hub\n",
        "from langchain_chroma import Chroma\n",
        "from langchain_community.document_loaders import WebBaseLoader\n",
        "from langchain_core.output_parsers import StrOutputParser\n",
        "from langchain_core.runnables import RunnableParallel, RunnablePassthrough\n",
        "from langchain_openai import ChatOpenAI, OpenAIEmbeddings\n",
        "from langchain_text_splitters import RecursiveCharacterTextSplitter"
      ]
    },
    {
      "cell_type": "code",
      "execution_count": null,
      "metadata": {
        "id": "HyaEXr235U8A"
      },
      "outputs": [],
      "source": [
        "rag_chain_from_docs = (\n",
        "    RunnablePassthrough.assign(context=(lambda x: format_docs(x[\"context\"])))\n",
        "    | custom_rag_prompt\n",
        "    | llm\n",
        "    | StrOutputParser()\n",
        ")\n",
        "\n",
        "rag_chain_with_source = RunnableParallel(\n",
        "    {\"context\": retriever, \"question\": RunnablePassthrough()}\n",
        ").assign(answer=rag_chain_from_docs)"
      ]
    },
    {
      "cell_type": "code",
      "execution_count": null,
      "metadata": {
        "id": "iqGZj4UHok9T"
      },
      "outputs": [],
      "source": [
        "rag_chain.invoke(\"트래블러스 카드도 교통카드 후불 가능해? \")"
      ]
    },
    {
      "cell_type": "code",
      "execution_count": null,
      "metadata": {
        "collapsed": true,
        "id": "ugns-E6doruX"
      },
      "outputs": [],
      "source": [
        "import time\n",
        "output = {}\n",
        "curr_key = None\n",
        "for chunk in rag_chain_with_source.stream(\"트래블러스 kb pay 혜택\"):\n",
        "    for key in chunk:\n",
        "        if key == \"answer\":\n",
        "            print(chunk[key], end=\"\")\n",
        "            if chunk[key] == \".\" :\n",
        "                print(\"\")\n"
      ]
    },
    {
      "cell_type": "code",
      "execution_count": null,
      "metadata": {
        "id": "J-ea990qbn5i"
      },
      "outputs": [],
      "source": [
        "text_splitter = RecursiveCharacterTextSplitter(chunk_size=1000, chunk_overlap=200)\n",
        "# Retrieve and generate using the relevant snippets of the blog.\n",
        "splits = text_splitter.split_documents(docs)\n",
        "vectorstore = Chroma.from_documents(documents=splits, embedding=OpenAIEmbeddings())\n",
        "\n",
        "from langchain_core.prompts import PromptTemplate\n",
        "\n",
        "def format_docs(docs):\n",
        "    return \"\\n\\n\".join(doc.page_content for doc in docs)\n",
        "\n",
        "vectorstore = Chroma.from_documents(documents=splits, embedding=OpenAIEmbeddings())\n",
        "retriever = vectorstore.as_retriever()\n",
        "\n",
        "template = \"\"\"\n",
        "당신은 KB국민은행에 대한 질문에 답변하는 작업을 돕는 은행원입니다.\n",
        "다음에 제공된 맥락을 사용하여 질문에 한국말로 답변하십시오.\n",
        "특히 몇 %를 적립할 수 있으며 할인 받을 수 있는 지 위주로 집중적으로 암기하여 대답하세요.\n",
        "5문장 이상으로 최대한 자세히 답변해주세요.\n",
        "\n",
        "{context}\n",
        "\n",
        "Question: {question}\n",
        "\n",
        "Helpful Answer:\"\"\"\n",
        "custom_rag_prompt = PromptTemplate.from_template(template)\n",
        "\n",
        "rag_chain = (\n",
        "    {\"context\": retriever | format_docs, \"question\": RunnablePassthrough()}\n",
        "    | custom_rag_prompt\n",
        "    | llm\n",
        "    | StrOutputParser()\n",
        ")\n",
        "\n",
        "# rag_chain.invoke(\"빵먹는거 얼마나 할인해주는데?\")"
      ]
    },
    {
      "cell_type": "code",
      "execution_count": null,
      "metadata": {
        "id": "utO6c_3Yoc9M"
      },
      "outputs": [],
      "source": [
        "from IPython.display import Markdown, display\n",
        "template = \"\"\"\n",
        "당신은 KB국민은행에 대한 질문에 답변하는 작업을 돕는 은행원입니다.\n",
        "다음에 제공된 맥락을 사용하여 질문에 한국말로 답변하십시오.\n",
        "특히 몇 %를 적립할 수 있으며 할인 받을 수 있는 지 위주로 집중적으로 암기하여 대답하세요.\n",
        "5문장 이상으로 최대한 자세히 답변해주세요.\n",
        "만약 추가 정보가 필요하다면 추가 정보를 요구해도 좋습니다.\n",
        "\n",
        "{context}\n",
        "\n",
        "Question: {question}\n",
        "\n",
        "Helpful Answer:\"\"\"\n",
        "custom_rag_prompt = PromptTemplate.from_template(template)\n",
        "\n",
        "rag_chain = (\n",
        "    {\"context\": retriever | format_docs, \"question\": RunnablePassthrough()}\n",
        "    | custom_rag_prompt\n",
        "    | llm\n",
        "    | StrOutputParser()\n",
        ")"
      ]
    },
    {
      "cell_type": "markdown",
      "metadata": {
        "id": "sEJzsvgyp4_W"
      },
      "source": [
        "# 가계부\n"
      ]
    },
    {
      "cell_type": "code",
      "execution_count": null,
      "metadata": {
        "id": "7VNiGYxQKZnO"
      },
      "outputs": [],
      "source": [
        "import mysql.connector\n",
        "from mysql.connector import Error\n",
        "\n",
        "try:\n",
        "    # 데이터베이스 연결\n",
        "    connection = mysql.connector.connect(\n",
        "        host=HOST,\n",
        "        database=DATABASE,\n",
        "        user=USER,\n",
        "        password=PASSWORD\n",
        "    )\n",
        "\n",
        "    if connection.is_connected():\n",
        "        print(\"데이터베이스에 성공적으로 연결되었습니다.\")\n",
        "\n",
        "        # 커서 생성\n",
        "        cursor = connection.cursor()\n",
        "\n",
        "        # 모든 데이터 조회 쿼리\n",
        "        query = \"SELECT date_format(date, '%Y-%m-%d') as date, category, CAST(amount as SIGNED) FROM transactions where user_id = 5\"\n",
        "\n",
        "        # 쿼리 실행\n",
        "        cursor.execute(query)\n",
        "\n",
        "        # 결과 가져오기\n",
        "        records = cursor.fetchall()\n",
        "\n",
        "        # 결과 출력\n",
        "        print(\"거래내역 데이터:\")\n",
        "        for row in records:\n",
        "            print(row)\n",
        "\n",
        "except Error as e:\n",
        "    print(f\"Error: {e}\")\n",
        "\n",
        "finally:\n",
        "    # 연결 종료\n",
        "    if connection.is_connected():\n",
        "        cursor.close()\n",
        "        connection.close()\n",
        "        print(\"MySQL 연결이 종료되었습니다.\")\n"
      ]
    },
    {
      "cell_type": "code",
      "execution_count": null,
      "metadata": {
        "id": "Uk_lHtX6djuJ"
      },
      "outputs": [],
      "source": [
        "docs"
      ]
    },
    {
      "cell_type": "code",
      "execution_count": null,
      "metadata": {
        "id": "UeINd436LnCT"
      },
      "outputs": [],
      "source": [
        "from langchain_core.documents import Document\n",
        "from langchain_core.prompts import PromptTemplate\n",
        "\n",
        "docs = [Document(\n",
        "        page_content=str(record)\n",
        "    ) for record in records]\n",
        "\n",
        "text_splitter = RecursiveCharacterTextSplitter(chunk_size=1000, chunk_overlap=0)\n",
        "# Retrieve and generate using the relevant snippets of the blog.\n",
        "splits = text_splitter.split_documents(docs)\n",
        "vectorstore = Chroma.from_documents(documents=splits, embedding=OpenAIEmbeddings())\n",
        "\n",
        "def format_docs(docs):\n",
        "    return \"\\n\\n\".join(doc.page_content for doc in docs)\n",
        "\n",
        "vectorstore = Chroma.from_documents(documents=splits, embedding=OpenAIEmbeddings())\n",
        "retriever = vectorstore.as_retriever()\n",
        "\n",
        "template = \"\"\"\n",
        "당신은 KB국민은행에 대한 질문에 답변하는 작업을 돕는 은행원입니다.\n",
        "다음에 제공된 맥락을 사용하여 질문에 한국말로 답변하십시오.\n",
        "특히 몇 %를 적립할 수 있으며 할인 받을 수 있는 지 위주로 집중적으로 암기하여 대답하세요.\n",
        "5문장 이상으로 최대한 자세히 답변해주세요.\n",
        "\n",
        "{context}\n",
        "\n",
        "Question: {question}\n",
        "\n",
        "Helpful Answer:\"\"\"\n",
        "custom_rag_prompt = PromptTemplate.from_template(template)\n",
        "\n",
        "rag_chain = (\n",
        "    {\"context\": retriever | format_docs, \"question\": RunnablePassthrough()}\n",
        "    | custom_rag_prompt\n",
        "    | llm\n",
        "    | StrOutputParser()\n",
        ")\n",
        "\n",
        "rag_chain.invoke(\"빵먹는거 얼마나 할인해주는데?\")"
      ]
    },
    {
      "cell_type": "code",
      "execution_count": null,
      "metadata": {
        "id": "WFeSqAleL6_Z"
      },
      "outputs": [],
      "source": [
        "rag_chain.invoke(\"난 학생인데 어떤 카드가 좋아?\")"
      ]
    },
    {
      "cell_type": "code",
      "execution_count": null,
      "metadata": {
        "id": "lVYBp_LhLWtr"
      },
      "outputs": [],
      "source": [
        "rag_chain.invoke(\"내가 12월에 총 얼마를 썼지?\")"
      ]
    }
  ],
  "metadata": {
    "colab": {
      "private_outputs": true,
      "provenance": []
    },
    "kernelspec": {
      "display_name": "Python 3",
      "name": "python3"
    },
    "language_info": {
      "codemirror_mode": {
        "name": "ipython",
        "version": 3
      },
      "file_extension": ".py",
      "mimetype": "text/x-python",
      "name": "python",
      "nbconvert_exporter": "python",
      "pygments_lexer": "ipython3",
      "version": "3.11.5"
    }
  },
  "nbformat": 4,
  "nbformat_minor": 0
}
